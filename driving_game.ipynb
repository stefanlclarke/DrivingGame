{
 "cells": [
  {
   "cell_type": "code",
   "execution_count": 174,
   "metadata": {},
   "outputs": [],
   "source": [
    "import numpy as np\n",
    "import cvxpy as cp\n",
    "\n",
    "class Car:\n",
    "    \n",
    "    def __init__(self, start_pos=None, start_angle=None):\n",
    "        if start_pos is None:\n",
    "            self.player_pos = np.array([[100.], [100.]])\n",
    "        else:\n",
    "            self.player_pos = start_pos\n",
    "        self.player_speed = 0.\n",
    "        self.player_accelaration = 0.\n",
    "        if start_angle is None:\n",
    "            self.player_direction = np.array([[1/np.sqrt(2)], [1/np.sqrt(2)]])\n",
    "        else:\n",
    "            self.player_direction = start_angle\n",
    "        self.wheel_direction = self.player_direction\n",
    "        self.car_size = 40.\n",
    "        \n",
    "    def update(self):\n",
    "        front_position = self.player_pos + self.car_size * self.player_direction\n",
    "        self.player_pos += self.player_speed * self.player_direction\n",
    "        new_front_position = front_position + self.player_speed * self.wheel_direction\n",
    "        new_direction = new_front_position - self.player_pos\n",
    "        self.player_direction = new_direction / np.linalg.norm(new_direction)\n",
    "        \n",
    "    def update_controls(self, update):\n",
    "        self.player_accelaration = update[1]\n",
    "        current_angle = np.arctan(self.player_direction[1]/self.player_direction[0])\n",
    "        if self.player_direction[0] < 0:\n",
    "            current_angle += np.pi\n",
    "        new_angle = current_angle + update[0]\n",
    "        self.wheel_direction = np.array([[np.cos(new_angle)[0]], [np.sin(new_angle)[0]]])\n",
    "        self.player_speed += self.player_accelaration\n",
    "    \n",
    "    def step(self, angle, accelaration):\n",
    "        unit_vec = np.array([np.cos(angle), np.sin(angle)])\n",
    "        update = np.array([angle, accelaration])\n",
    "        self.update()\n",
    "        self.update_controls(update)"
   ]
  },
  {
   "cell_type": "code",
   "execution_count": 175,
   "metadata": {},
   "outputs": [],
   "source": [
    "def solve_linearized_problem(cars, index, prev_acc, dest):\n",
    "    car = cars[index]\n",
    "    L = car.car_size\n",
    "    xt = car.player_pos\n",
    "    yt = car.player_pos + car.player_direction * car.car_size\n",
    "    dt = car.player_direction\n",
    "    vt = car.player_speed\n",
    "    delta_at = cp.Variable()\n",
    "    wt = cp.Variable()\n",
    "    wtp1 = cp.Variable()\n",
    "    xtp1 = xt + dt * vt\n",
    "    ytp1 = cp.Variable((2,1))\n",
    "    ytp2 = cp.Variable((2,1))\n",
    "    atm1 = prev_acc\n",
    "    Wt1 = cp.Variable((2,2))\n",
    "    constraints = [Wt1[0,0] == 0, Wt1[0,1] == wt, Wt1[1,0] == -wt, Wt1[1,1] == 0]\n",
    "    Wt2 = cp.Variable((2,2))\n",
    "    constraints += [Wt2[0,0] == 0, Wt2[0,1] == wtp1, Wt2[1,0] == -wtp1, Wt2[1,1] == 0]\n",
    "    Da = cp.Variable((2,2))\n",
    "    constraints += [Da[0,0] == delta_at, Da[0,1] == 0, Da[1,0] == 0, Da[1,1] == delta_at]\n",
    "    On = np.array([[1, 0], [0, 1]])\n",
    "    constraints += [ytp2 == ytp1 + ((On + Wt2) @ yt + (On + Wt1 + Wt2) @ dt * L * vt - (On + Wt2) @ xtp1) * L * (atm1 + vt)\n",
    "                            + ((Da) @ yt + (Da) @ dt * L * vt - (Da) @ xtp1) * L]\n",
    "    constraints += [ytp1 == yt + ((On + Wt1) @ dt * L * vt)]\n",
    "    constraints += [cp.abs(delta_at) <= 5, cp.abs(wt) <= 0.5, cp.abs(wtp1) <= 0.5]\n",
    "    objective = cp.sum_squares(dest - ytp2)**2\n",
    "    problem = cp.Problem(cp.Minimize(objective), constraints)\n",
    "    problem.solve()\n",
    "    return wt.value, delta_at.value"
   ]
  },
  {
   "cell_type": "code",
   "execution_count": 199,
   "metadata": {},
   "outputs": [],
   "source": [
    "def solve_linearized_problem_2(cars, index, dest):\n",
    "    car = cars[index]\n",
    "    L = car.car_size\n",
    "    xt = car.player_pos\n",
    "    yt = car.player_pos + car.player_direction * car.car_size\n",
    "    dt = car.player_direction\n",
    "    vt = car.player_speed\n",
    "    at = cp.Variable()\n",
    "    wt = car.wheel_direction\n",
    "    wtp1 = cp.Variable()\n",
    "    xtp1 = xt + dt * vt\n",
    "    ytp1_ = yt + vt * wt\n",
    "    ytp1 = xtp1 + L * (ytp1_ - xtp1)/np.linalg.norm(ytp1_ - xtp1)\n",
    "    ytp2 = cp.Variable((2,1))\n",
    "    Wt2 = cp.Variable((2,2))\n",
    "    \n",
    "    constraints = [Wt2[0,0] == 0, Wt2[0,1] == wtp1, Wt2[1,0] == -wtp1, Wt2[1,1] == 0]\n",
    "    On = np.array([[1, 0], [0, 1]])\n",
    "    \n",
    "    constraints += [ytp2 == ytp1 + (On + Wt2) @ (ytp1 - xtp1)/L * vt + (at * On) @ (ytp1 - xtp1)/L]\n",
    "    constraints += [cp.abs(at) <= 0.5, cp.abs(wtp1) <= 0.25]\n",
    "    objective = cp.sum_squares(dest - ytp2)\n",
    "    problem = cp.Problem(cp.Minimize(objective), constraints)\n",
    "    problem.solve()\n",
    "    return -wtp1.value, at.value"
   ]
  },
  {
   "cell_type": "code",
   "execution_count": 200,
   "metadata": {},
   "outputs": [
    {
     "name": "stderr",
     "output_type": "stream",
     "text": [
      "<ipython-input-200-1fa39bafaa91>:29: RuntimeWarning: divide by zero encountered in true_divide\n",
      "  angle = np.arctan(car.player_direction[0]/car.player_direction[1])\n"
     ]
    }
   ],
   "source": [
    "import pygame\n",
    "\n",
    "window_size = 500\n",
    "frame_rate = 30\n",
    "car_colours = [np.array([255., 0., 0.]), np.array([0., 255., 0.])]\n",
    "\n",
    "car_starts = [np.array([[40.], [180.]]), np.array([[180.], [40.]])]\n",
    "start_angles = [np.array([[1], [0]]), np.array([[0], [1]])]\n",
    "car_destinations = [np.array([[420.], [100.]]), np.array([[300.], [420.]])]\n",
    "cars = [Car(car_starts[0], start_angles[0]), Car(car_starts[1], start_angles[1])]\n",
    "\n",
    "def main():\n",
    "    accelaration = 0\n",
    "    pygame.init()\n",
    "    win = pygame.display.set_mode((window_size, window_size))\n",
    "    pygame.display.set_caption(\"Cars\")\n",
    "    font = pygame.font.SysFont('freesansbold.ttf', 80)\n",
    "    small_font = pygame.font.SysFont('freesansbold.ttf', 20)\n",
    "    clock = pygame.time.Clock()\n",
    "    \n",
    "    def draw_board(cars, destinations):\n",
    "        for i in range(len(cars)):\n",
    "            car = cars[i]\n",
    "            rear_position = car.player_pos\n",
    "            centre_position = car.player_pos + car.player_direction * car.car_size / 2\n",
    "            end_position = car.player_pos + car.player_direction * car.car_size\n",
    "            unrotated_tl = np.array([centre_position[0] - car.car_size//2, centre_position[1]- car.car_size//2])\n",
    "            rect = pygame.Rect(np.array([0., 0.]), (1, 1))\n",
    "            angle = np.arctan(car.player_direction[0]/car.player_direction[1])\n",
    "            if car.player_direction[1] < 0:\n",
    "                angle += np.pi\n",
    "            #surf = pygame.Surface((int(car.car_size), int(car.car_size)))\n",
    "            ##surf.fill(car_colours[i])\n",
    "            #pygame.draw.rect(surf, (0, 0, 0), rect)\n",
    "            #new_surf = pygame.transform.rotate(surf, angle*180/np.pi)\n",
    "            #win.blit(new_surf, centre_position.flatten())\n",
    "            pygame.draw.circle(win, car_colours[i] + np.array([0, 0, 100]), (car_destinations[i][0,0], car_destinations[i][1,0]), 10)\n",
    "            pygame.draw.circle(win, car_colours[i], (end_position[0,0], end_position[1,0]), 30)\n",
    "            pygame.draw.circle(win, np.array([0., 0., 255.]), (centre_position[0,0], centre_position[1,0]), 30)\n",
    "            pygame.draw.circle(win, car_colours[i], (car.player_pos[0,0], car.player_pos[1,0]), 30)\n",
    "            \n",
    "            \n",
    "            \n",
    "    run = True\n",
    "    while run:\n",
    "        clock.tick(frame_rate)\n",
    "        win.fill((0, 0, 0))\n",
    "        draw_board(cars, car_destinations)\n",
    "        pygame.display.update()\n",
    "        pygame.event.pump()\n",
    "        keys = pygame.key.get_pressed()\n",
    "        \n",
    "        angle = 0; accelaration = 0\n",
    "        if keys[pygame.K_w]:\n",
    "            accelaration = 1\n",
    "        if keys[pygame.K_s]:\n",
    "            accelaration = -1\n",
    "        if keys[pygame.K_a]:\n",
    "            angle = -0.5\n",
    "        if keys[pygame.K_d]:\n",
    "            angle = 0.5\n",
    "        if keys[pygame.K_b]:\n",
    "            if cars[0].player_speed > 1:\n",
    "                accelaration = -3\n",
    "            elif cars[0].player_speed < -1:\n",
    "                accelaration = 5\n",
    "            elif cars[0].player_speed > -1 and cars[0].player_speed < 1:\n",
    "                accelaration = 0\n",
    "                cars[0].player_speed = 0\n",
    "                \n",
    "        angle1, acc1 = solve_linearized_problem_2(cars, 0, car_destinations[0])\n",
    "        angle2, acc2 = solve_linearized_problem_2(cars, 1, car_destinations[1])\n",
    "        \n",
    "        cars[0].step(angle1, acc1)\n",
    "        cars[1].step(angle2, acc2)\n",
    "        cars[0].player_speed = 0.9 * cars[0].player_speed\n",
    "        cars[1].player_speed = 0.9 * cars[1].player_speed\n",
    "        \n",
    "        for event in pygame.event.get():\n",
    "            if event.type == pygame.QUIT:\n",
    "                run = False\n",
    "\n",
    "main()"
   ]
  },
  {
   "cell_type": "code",
   "execution_count": null,
   "metadata": {},
   "outputs": [],
   "source": [
    "pygame.Rect(np.array([[0.], [0.]]).flatten(), (10, 10))"
   ]
  },
  {
   "cell_type": "code",
   "execution_count": 27,
   "metadata": {},
   "outputs": [],
   "source": [
    "game.step(0.5, 1.)"
   ]
  },
  {
   "cell_type": "code",
   "execution_count": 28,
   "metadata": {},
   "outputs": [
    {
     "data": {
      "text/plain": [
       "array([[101.],\n",
       "       [100.]])"
      ]
     },
     "execution_count": 28,
     "metadata": {},
     "output_type": "execute_result"
    }
   ],
   "source": [
    "game.player_pos"
   ]
  },
  {
   "cell_type": "code",
   "execution_count": 29,
   "metadata": {},
   "outputs": [],
   "source": [
    "game.step(0.5, 1.)"
   ]
  },
  {
   "cell_type": "code",
   "execution_count": 30,
   "metadata": {},
   "outputs": [
    {
     "data": {
      "text/plain": [
       "array([[102.99215284],\n",
       "       [100.17699458]])"
      ]
     },
     "execution_count": 30,
     "metadata": {},
     "output_type": "execute_result"
    }
   ],
   "source": [
    "game.player_pos"
   ]
  },
  {
   "cell_type": "code",
   "execution_count": 31,
   "metadata": {},
   "outputs": [],
   "source": [
    "game.step(0.5, 1.)"
   ]
  },
  {
   "cell_type": "code",
   "execution_count": 32,
   "metadata": {},
   "outputs": [
    {
     "data": {
      "text/plain": [
       "array([[105.90030033],\n",
       "       [100.9136615 ]])"
      ]
     },
     "execution_count": 32,
     "metadata": {},
     "output_type": "execute_result"
    }
   ],
   "source": [
    "game.player_pos"
   ]
  },
  {
   "cell_type": "code",
   "execution_count": 49,
   "metadata": {},
   "outputs": [],
   "source": [
    "X = np.array([[1], [2]])"
   ]
  },
  {
   "cell_type": "code",
   "execution_count": 50,
   "metadata": {},
   "outputs": [
    {
     "data": {
      "text/plain": [
       "array([1, 2])"
      ]
     },
     "execution_count": 50,
     "metadata": {},
     "output_type": "execute_result"
    }
   ],
   "source": [
    "X.flatten()"
   ]
  },
  {
   "cell_type": "code",
   "execution_count": 51,
   "metadata": {},
   "outputs": [
    {
     "data": {
      "text/plain": [
       "array([[1],\n",
       "       [2]])"
      ]
     },
     "execution_count": 51,
     "metadata": {},
     "output_type": "execute_result"
    }
   ],
   "source": [
    "X"
   ]
  },
  {
   "cell_type": "code",
   "execution_count": 66,
   "metadata": {},
   "outputs": [
    {
     "data": {
      "text/plain": [
       "array([8.5       , 8.        , 7.33333333, 1.        ])"
      ]
     },
     "execution_count": 66,
     "metadata": {},
     "output_type": "execute_result"
    }
   ],
   "source": [
    "correct_P = np.array([[3/5, 3/10, 0, 1/10],\n",
    "                      [0, 3/5, 3/10, 1/10],\n",
    "                      [2/5, 0, 2/5, 2/10],\n",
    "                      [0, 0, 0, 1]])\n",
    "\n",
    "correct_P @ np.array([17/2, 8, 22/3, 0]) + 1"
   ]
  },
  {
   "cell_type": "code",
   "execution_count": 76,
   "metadata": {},
   "outputs": [],
   "source": [
    "bad_P = np.array([[2/3, 7/30, 0],\n",
    "                      [0, 2/3, 7/30],\n",
    "                      [3/10, 0, 1/2]])\n",
    "\n",
    "np.linalg.inv(bad_P - np.eye(3)) @ np.array([-1, -1, -1])"
   ]
  },
  {
   "cell_type": "code",
   "execution_count": 82,
   "metadata": {},
   "outputs": [
    {
     "data": {
      "text/plain": [
       "array([8.61189802, 8.01699717, 7.16713881])"
      ]
     },
     "execution_count": 82,
     "metadata": {},
     "output_type": "execute_result"
    }
   ],
   "source": [
    "np.linalg.inv(bad_P - np.eye(3)) @ np.array([-1, -1, -1])"
   ]
  },
  {
   "cell_type": "code",
   "execution_count": 87,
   "metadata": {},
   "outputs": [
    {
     "data": {
      "text/plain": [
       "8.611898016997166"
      ]
     },
     "execution_count": 87,
     "metadata": {},
     "output_type": "execute_result"
    }
   ],
   "source": [
    "7 * 283/353 + 3 * 353/353"
   ]
  },
  {
   "cell_type": "code",
   "execution_count": 85,
   "metadata": {},
   "outputs": [
    {
     "data": {
      "text/plain": [
       "2.175324675324675"
      ]
     },
     "execution_count": 85,
     "metadata": {},
     "output_type": "execute_result"
    }
   ],
   "source": [
    "(0.4 * 0.7 + 0.3 * 1.3)/((0.4)**2*0.7 + 0.4 * 0.7**2)"
   ]
  },
  {
   "cell_type": "code",
   "execution_count": 88,
   "metadata": {},
   "outputs": [
    {
     "data": {
      "text/plain": [
       "8.611898016997166"
      ]
     },
     "execution_count": 88,
     "metadata": {},
     "output_type": "execute_result"
    }
   ],
   "source": [
    "3040/353"
   ]
  },
  {
   "cell_type": "code",
   "execution_count": 89,
   "metadata": {},
   "outputs": [
    {
     "data": {
      "text/plain": [
       "8.611898016997166"
      ]
     },
     "execution_count": 89,
     "metadata": {},
     "output_type": "execute_result"
    }
   ],
   "source": [
    "5472/900 * 9000/6354"
   ]
  },
  {
   "cell_type": "code",
   "execution_count": 90,
   "metadata": {},
   "outputs": [
    {
     "data": {
      "text/plain": [
       "8.611898016997166"
      ]
     },
     "execution_count": 90,
     "metadata": {},
     "output_type": "execute_result"
    }
   ],
   "source": [
    "3040/353"
   ]
  },
  {
   "cell_type": "code",
   "execution_count": 91,
   "metadata": {},
   "outputs": [
    {
     "data": {
      "text/plain": [
       "12.438461538461539"
      ]
     },
     "execution_count": 91,
     "metadata": {},
     "output_type": "execute_result"
    }
   ],
   "source": [
    "77*21/130"
   ]
  },
  {
   "cell_type": "code",
   "execution_count": 109,
   "metadata": {},
   "outputs": [
    {
     "data": {
      "text/plain": [
       "4.464153732446415"
      ]
     },
     "execution_count": 109,
     "metadata": {},
     "output_type": "execute_result"
    }
   ],
   "source": [
    "6040/1353"
   ]
  },
  {
   "cell_type": "code",
   "execution_count": 95,
   "metadata": {},
   "outputs": [
    {
     "data": {
      "text/plain": [
       "8.611898016997166"
      ]
     },
     "execution_count": 95,
     "metadata": {},
     "output_type": "execute_result"
    }
   ],
   "source": [
    "152*20/353"
   ]
  },
  {
   "cell_type": "code",
   "execution_count": 96,
   "metadata": {},
   "outputs": [
    {
     "data": {
      "text/plain": [
       "5.611898016997166"
      ]
     },
     "execution_count": 96,
     "metadata": {},
     "output_type": "execute_result"
    }
   ],
   "source": [
    "7/10 * (7 * 3.8/10 + 3) * (1000/(1000 - 7*42))"
   ]
  },
  {
   "cell_type": "code",
   "execution_count": 97,
   "metadata": {},
   "outputs": [
    {
     "data": {
      "text/plain": [
       "8.611898016997166"
      ]
     },
     "execution_count": 97,
     "metadata": {},
     "output_type": "execute_result"
    }
   ],
   "source": [
    "304*30/1059"
   ]
  },
  {
   "cell_type": "code",
   "execution_count": 98,
   "metadata": {},
   "outputs": [
    {
     "data": {
      "text/plain": [
       "8.611898016997166"
      ]
     },
     "execution_count": 98,
     "metadata": {},
     "output_type": "execute_result"
    }
   ],
   "source": [
    "3 + 7/10 * 500/353 * 849/150"
   ]
  },
  {
   "cell_type": "code",
   "execution_count": 99,
   "metadata": {},
   "outputs": [
    {
     "data": {
      "text/plain": [
       "0.8611898016997167"
      ]
     },
     "execution_count": 99,
     "metadata": {},
     "output_type": "execute_result"
    }
   ],
   "source": [
    "608/706"
   ]
  },
  {
   "cell_type": "code",
   "execution_count": 101,
   "metadata": {},
   "outputs": [
    {
     "data": {
      "text/plain": [
       "11.886474501108648"
      ]
     },
     "execution_count": 101,
     "metadata": {},
     "output_type": "execute_result"
    }
   ],
   "source": [
    "3040/451 + 5168/4510 + 4"
   ]
  },
  {
   "cell_type": "code",
   "execution_count": 102,
   "metadata": {},
   "outputs": [
    {
     "data": {
      "text/plain": [
       "8.125"
      ]
     },
     "execution_count": 102,
     "metadata": {},
     "output_type": "execute_result"
    }
   ],
   "source": [
    "1/0.4 + 3/4*(5 + 3/4*(1/0.3))"
   ]
  },
  {
   "cell_type": "code",
   "execution_count": 103,
   "metadata": {},
   "outputs": [
    {
     "data": {
      "text/plain": [
       "5.736543909348442"
      ]
     },
     "execution_count": 103,
     "metadata": {},
     "output_type": "execute_result"
    }
   ],
   "source": [
    "10 * (30 * 30 * 3 + 63 + 21 * 42)/(30 * 300 - 126*21)"
   ]
  },
  {
   "cell_type": "code",
   "execution_count": 104,
   "metadata": {},
   "outputs": [
    {
     "data": {
      "text/plain": [
       "7.065217391304348"
      ]
     },
     "execution_count": 104,
     "metadata": {},
     "output_type": "execute_result"
    }
   ],
   "source": [
    "325/46"
   ]
  },
  {
   "cell_type": "code",
   "execution_count": 105,
   "metadata": {},
   "outputs": [
    {
     "data": {
      "text/plain": [
       "18.125"
      ]
     },
     "execution_count": 105,
     "metadata": {},
     "output_type": "execute_result"
    }
   ],
   "source": [
    "145/8"
   ]
  },
  {
   "cell_type": "code",
   "execution_count": 106,
   "metadata": {},
   "outputs": [
    {
     "data": {
      "text/plain": [
       "8.611898016997168"
      ]
     },
     "execution_count": 106,
     "metadata": {},
     "output_type": "execute_result"
    }
   ],
   "source": [
    "4500/1059 * (304/150)"
   ]
  },
  {
   "cell_type": "code",
   "execution_count": 107,
   "metadata": {},
   "outputs": [
    {
     "data": {
      "text/plain": [
       "10.756972111553784"
      ]
     },
     "execution_count": 107,
     "metadata": {},
     "output_type": "execute_result"
    }
   ],
   "source": [
    "8100/753"
   ]
  },
  {
   "cell_type": "code",
   "execution_count": 108,
   "metadata": {},
   "outputs": [
    {
     "data": {
      "text/plain": [
       "5.675675675675675"
      ]
     },
     "execution_count": 108,
     "metadata": {},
     "output_type": "execute_result"
    }
   ],
   "source": [
    "98*15/259"
   ]
  },
  {
   "cell_type": "code",
   "execution_count": 110,
   "metadata": {},
   "outputs": [
    {
     "data": {
      "text/plain": [
       "2.4511898016997167"
      ]
     },
     "execution_count": 110,
     "metadata": {},
     "output_type": "execute_result"
    }
   ],
   "source": [
    "173054/70600"
   ]
  },
  {
   "cell_type": "code",
   "execution_count": 111,
   "metadata": {},
   "outputs": [
    {
     "data": {
      "text/plain": [
       "4.464153732446415"
      ]
     },
     "execution_count": 111,
     "metadata": {},
     "output_type": "execute_result"
    }
   ],
   "source": [
    "6040/1353"
   ]
  },
  {
   "cell_type": "code",
   "execution_count": 112,
   "metadata": {},
   "outputs": [
    {
     "data": {
      "text/plain": [
       "8.611898016997166"
      ]
     },
     "execution_count": 112,
     "metadata": {},
     "output_type": "execute_result"
    }
   ],
   "source": [
    "3040/353"
   ]
  },
  {
   "cell_type": "code",
   "execution_count": null,
   "metadata": {},
   "outputs": [],
   "source": []
  }
 ],
 "metadata": {
  "kernelspec": {
   "display_name": "Python 3",
   "language": "python",
   "name": "python3"
  },
  "language_info": {
   "codemirror_mode": {
    "name": "ipython",
    "version": 3
   },
   "file_extension": ".py",
   "mimetype": "text/x-python",
   "name": "python",
   "nbconvert_exporter": "python",
   "pygments_lexer": "ipython3",
   "version": "3.8.5"
  }
 },
 "nbformat": 4,
 "nbformat_minor": 4
}
